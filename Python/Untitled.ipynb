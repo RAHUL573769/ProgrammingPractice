{
 "cells": [
  {
   "cell_type": "code",
   "execution_count": 2,
   "id": "20072823",
   "metadata": {},
   "outputs": [
    {
     "name": "stdout",
     "output_type": "stream",
     "text": [
      "Enter the value of a23\n",
      "Enter the value of b45\n",
      "68\n"
     ]
    }
   ],
   "source": [
    "a=int(input(\"Enter the value of a\"));\n",
    "b=int(input(\"Enter the value of b\"));\n",
    "c=a+b;\n",
    "print(c)"
   ]
  },
  {
   "cell_type": "code",
   "execution_count": null,
   "id": "2981189a",
   "metadata": {},
   "outputs": [],
   "source": []
  }
 ],
 "metadata": {
  "kernelspec": {
   "display_name": "Python 3 (ipykernel)",
   "language": "python",
   "name": "python3"
  },
  "language_info": {
   "codemirror_mode": {
    "name": "ipython",
    "version": 3
   },
   "file_extension": ".py",
   "mimetype": "text/x-python",
   "name": "python",
   "nbconvert_exporter": "python",
   "pygments_lexer": "ipython3",
   "version": "3.10.9"
  }
 },
 "nbformat": 4,
 "nbformat_minor": 5
}
