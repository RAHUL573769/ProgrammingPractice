{
 "cells": [
  {
   "cell_type": "code",
   "execution_count": 1,
   "id": "483f1dfb",
   "metadata": {},
   "outputs": [
    {
     "name": "stdout",
     "output_type": "stream",
     "text": [
      "Now I need Money\n",
      "12\n"
     ]
    },
    {
     "data": {
      "text/plain": [
       "'12'"
      ]
     },
     "execution_count": 1,
     "metadata": {},
     "output_type": "execute_result"
    }
   ],
   "source": [
    "print(\"Now I need Money\")\n",
    "input()"
   ]
  },
  {
   "cell_type": "code",
   "execution_count": 6,
   "id": "993a136d",
   "metadata": {},
   "outputs": [
    {
     "name": "stdout",
     "output_type": "stream",
     "text": [
      "give me some money23\n",
      "give me some money45\n",
      "68\n"
     ]
    }
   ],
   "source": [
    "first_money=int(input(\"give me some money\"))\n",
    "second_money=int(input(\"give me some money\"))\n",
    "print(first_money+second_money)"
   ]
  },
  {
   "cell_type": "markdown",
   "id": "c2d1f202",
   "metadata": {},
   "source": [
    "\n"
   ]
  },
  {
   "cell_type": "code",
   "execution_count": 7,
   "id": "dd48f960",
   "metadata": {},
   "outputs": [
    {
     "name": "stdout",
     "output_type": "stream",
     "text": [
      "Hello 1\n"
     ]
    }
   ],
   "source": [
    "num1=12\n",
    "num2=16\n",
    "if(num1>num2):\n",
    "    print(\"Hello\")\n",
    "else:\n",
    "    print(\"Hello 1\")"
   ]
  },
  {
   "cell_type": "code",
   "execution_count": null,
   "id": "52dffa62",
   "metadata": {},
   "outputs": [],
   "source": []
  }
 ],
 "metadata": {
  "kernelspec": {
   "display_name": "Python 3 (ipykernel)",
   "language": "python",
   "name": "python3"
  },
  "language_info": {
   "codemirror_mode": {
    "name": "ipython",
    "version": 3
   },
   "file_extension": ".py",
   "mimetype": "text/x-python",
   "name": "python",
   "nbconvert_exporter": "python",
   "pygments_lexer": "ipython3",
   "version": "3.10.9"
  }
 },
 "nbformat": 4,
 "nbformat_minor": 5
}
