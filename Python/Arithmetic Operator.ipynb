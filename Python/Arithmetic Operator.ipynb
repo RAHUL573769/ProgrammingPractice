{
 "cells": [
  {
   "cell_type": "code",
   "execution_count": 1,
   "id": "4cc8d68d",
   "metadata": {},
   "outputs": [
    {
     "name": "stdout",
     "output_type": "stream",
     "text": [
      "a+b= 120\n"
     ]
    }
   ],
   "source": [
    "a=100;\n",
    "b=20;\n",
    "print(\"a+b=\",a+b)"
   ]
  },
  {
   "cell_type": "code",
   "execution_count": 2,
   "id": "5474787d",
   "metadata": {},
   "outputs": [
    {
     "name": "stdout",
     "output_type": "stream",
     "text": [
      "a%b= 3\n"
     ]
    }
   ],
   "source": [
    "a=123\n",
    "b-34\n",
    "print(\"a%b=\",a%b)"
   ]
  },
  {
   "cell_type": "code",
   "execution_count": 3,
   "id": "159e5ae6",
   "metadata": {},
   "outputs": [
    {
     "name": "stdout",
     "output_type": "stream",
     "text": [
      "a/b= 6.15\n"
     ]
    }
   ],
   "source": [
    "a=123\n",
    "b-34\n",
    "print(\"a/b=\",a/b)"
   ]
  },
  {
   "cell_type": "code",
   "execution_count": 4,
   "id": "567eafbe",
   "metadata": {},
   "outputs": [
    {
     "name": "stdout",
     "output_type": "stream",
     "text": [
      "Name is Rahul\n"
     ]
    }
   ],
   "source": [
    "name=\"Rahul\"\n",
    "age=45\n",
    "print(f\"Name is {name}\")"
   ]
  },
  {
   "cell_type": "code",
   "execution_count": null,
   "id": "7056e569",
   "metadata": {},
   "outputs": [],
   "source": []
  }
 ],
 "metadata": {
  "kernelspec": {
   "display_name": "Python 3 (ipykernel)",
   "language": "python",
   "name": "python3"
  },
  "language_info": {
   "codemirror_mode": {
    "name": "ipython",
    "version": 3
   },
   "file_extension": ".py",
   "mimetype": "text/x-python",
   "name": "python",
   "nbconvert_exporter": "python",
   "pygments_lexer": "ipython3",
   "version": "3.10.9"
  }
 },
 "nbformat": 4,
 "nbformat_minor": 5
}
