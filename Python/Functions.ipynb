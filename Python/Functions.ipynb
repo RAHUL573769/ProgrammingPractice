{
 "cells": [
  {
   "cell_type": "code",
   "execution_count": 9,
   "id": "a01a82fc",
   "metadata": {},
   "outputs": [],
   "source": [
    "def all_sum(*numbers):\n",
    "    print(numbers)\n",
    "    sum=0\n",
    "    for num in numbers:\n",
    "        sum=sum+num\n",
    "    return sum"
   ]
  },
  {
   "cell_type": "code",
   "execution_count": 10,
   "id": "1f8fe88c",
   "metadata": {},
   "outputs": [
    {
     "name": "stdout",
     "output_type": "stream",
     "text": [
      "(1, 2, 4, 5)\n",
      "12\n"
     ]
    }
   ],
   "source": [
    "total=all_sum(1,2,4,5)\n",
    "print(total)"
   ]
  },
  {
   "cell_type": "code",
   "execution_count": null,
   "id": "35a56aaa",
   "metadata": {},
   "outputs": [],
   "source": []
  }
 ],
 "metadata": {
  "kernelspec": {
   "display_name": "Python 3 (ipykernel)",
   "language": "python",
   "name": "python3"
  },
  "language_info": {
   "codemirror_mode": {
    "name": "ipython",
    "version": 3
   },
   "file_extension": ".py",
   "mimetype": "text/x-python",
   "name": "python",
   "nbconvert_exporter": "python",
   "pygments_lexer": "ipython3",
   "version": "3.10.9"
  }
 },
 "nbformat": 4,
 "nbformat_minor": 5
}
